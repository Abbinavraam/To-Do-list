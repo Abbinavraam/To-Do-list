{
  "nbformat": 4,
  "nbformat_minor": 0,
  "metadata": {
    "colab": {
      "provenance": [],
      "authorship_tag": "ABX9TyPzpOMkmJcoCwcpADGocX6Y",
      "include_colab_link": true
    },
    "kernelspec": {
      "name": "python3",
      "display_name": "Python 3"
    },
    "language_info": {
      "name": "python"
    }
  },
  "cells": [
    {
      "cell_type": "markdown",
      "metadata": {
        "id": "view-in-github",
        "colab_type": "text"
      },
      "source": [
        "<a href=\"https://colab.research.google.com/github/Abbinavraam/To-Do-list/blob/main/To_Do_list_py.ipynb\" target=\"_parent\"><img src=\"https://colab.research.google.com/assets/colab-badge.svg\" alt=\"Open In Colab\"/></a>"
      ]
    },
    {
      "cell_type": "code",
      "execution_count": 2,
      "metadata": {
        "colab": {
          "base_uri": "https://localhost:8080/"
        },
        "id": "0pycWCzeLrl-",
        "outputId": "def04224-e85a-4714-fdec-5d3ba0e8f71f"
      },
      "outputs": [
        {
          "output_type": "stream",
          "name": "stdout",
          "text": [
            "\n",
            "Select an option:\n",
            "1. Add Task\n",
            "2. Remove Task\n",
            "3. View Tasks\n",
            "4. Exit\n",
            "Enter choice (1/2/3/4): 1\n",
            "Enter the task: 2\n",
            "Task added: 2\n",
            "\n",
            "Select an option:\n",
            "1. Add Task\n",
            "2. Remove Task\n",
            "3. View Tasks\n",
            "4. Exit\n",
            "Enter choice (1/2/3/4): 2\n",
            "Enter the task to remove: 1\n",
            "Task not found.\n",
            "\n",
            "Select an option:\n",
            "1. Add Task\n",
            "2. Remove Task\n",
            "3. View Tasks\n",
            "4. Exit\n",
            "Enter choice (1/2/3/4): 3\n",
            "Tasks:\n",
            "1. 2\n",
            "\n",
            "Select an option:\n",
            "1. Add Task\n",
            "2. Remove Task\n",
            "3. View Tasks\n",
            "4. Exit\n",
            "Enter choice (1/2/3/4): 4\n",
            "Exiting...\n"
          ]
        }
      ],
      "source": [
        "def add_task(tasks, task):\n",
        "    tasks.append(task)\n",
        "    print(\"Task added:\", task)\n",
        "\n",
        "def remove_task(tasks, task):\n",
        "    if task in tasks:\n",
        "        tasks.remove(task)\n",
        "        print(\"Task removed:\", task)\n",
        "    else:\n",
        "        print(\"Task not found.\")\n",
        "\n",
        "def view_tasks(tasks):\n",
        "    if tasks:\n",
        "        print(\"Tasks:\")\n",
        "        for index, task in enumerate(tasks, start=1):\n",
        "            print(f\"{index}. {task}\")\n",
        "    else:\n",
        "        print(\"No tasks.\")\n",
        "\n",
        "def main():\n",
        "    tasks = []\n",
        "\n",
        "    while True:\n",
        "        print(\"\\nSelect an option:\")\n",
        "        print(\"1. Add Task\")\n",
        "        print(\"2. Remove Task\")\n",
        "        print(\"3. View Tasks\")\n",
        "        print(\"4. Exit\")\n",
        "\n",
        "        choice = input(\"Enter choice (1/2/3/4): \")\n",
        "\n",
        "        if choice == '1':\n",
        "            task = input(\"Enter the task: \")\n",
        "            add_task(tasks, task)\n",
        "        elif choice == '2':\n",
        "            task = input(\"Enter the task to remove: \")\n",
        "            remove_task(tasks, task)\n",
        "        elif choice == '3':\n",
        "            view_tasks(tasks)\n",
        "        elif choice == '4':\n",
        "            print(\"Exiting...\")\n",
        "            break\n",
        "        else:\n",
        "            print(\"Invalid choice. Please try again.\")\n",
        "\n",
        "if __name__ == \"__main__\":\n",
        "    main()\n"
      ]
    }
  ]
}